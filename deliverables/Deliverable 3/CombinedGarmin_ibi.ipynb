{
  "nbformat": 4,
  "nbformat_minor": 0,
  "metadata": {
    "colab": {
      "provenance": []
    },
    "kernelspec": {
      "name": "python3",
      "display_name": "Python 3"
    },
    "language_info": {
      "name": "python"
    }
  },
  "cells": [
    {
      "cell_type": "code",
      "execution_count": 1,
      "metadata": {
        "colab": {
          "base_uri": "https://localhost:8080/"
        },
        "id": "y2qysSs9n0Kt",
        "outputId": "e9f81e19-76a7-45fe-d92a-c393063e2f20"
      },
      "outputs": [
        {
          "output_type": "stream",
          "name": "stdout",
          "text": [
            "Drive already mounted at /content/drive; to attempt to forcibly remount, call drive.mount(\"/content/drive\", force_remount=True).\n"
          ]
        }
      ],
      "source": [
        "from google.colab import drive\n",
        "drive.mount('/content/drive')\n"
      ]
    },
    {
      "cell_type": "code",
      "source": [
        "%cd /content/drive/MyDrive/DATA - Working From the Home Environment /3 Month Data/Garmin Data\n"
      ],
      "metadata": {
        "colab": {
          "base_uri": "https://localhost:8080/"
        },
        "id": "WwbXwUvxogxR",
        "outputId": "e800f982-4122-455a-bb48-c7e28f71abcc"
      },
      "execution_count": 2,
      "outputs": [
        {
          "output_type": "stream",
          "name": "stdout",
          "text": [
            "/content/drive/.shortcut-targets-by-id/1bsGmv7emVk-I65dMlZ1pWzWAqISr6jvI/DATA - Working From the Home Environment /3 Month Data/Garmin Data\n"
          ]
        }
      ]
    },
    {
      "cell_type": "markdown",
      "source": [
        "###Checking datatype"
      ],
      "metadata": {
        "id": "YUFlWFYfoyPS"
      }
    },
    {
      "cell_type": "code",
      "source": [
        "import pandas as pd\n",
        "\n",
        "# Path to the CSV file\n",
        "csv_file_path = \"/content/drive/MyDrive/DATA - Working From the Home Environment /3 Month Data/Garmin Data/garmin.11822993 2.csv\"\n",
        "\n",
        "# Read the CSV file into a pandas DataFrame\n",
        "df = pd.read_csv(csv_file_path)\n",
        "\n",
        "# Print the data types for each column\n",
        "print(df.dtypes)\n"
      ],
      "metadata": {
        "colab": {
          "base_uri": "https://localhost:8080/"
        },
        "id": "c2wYzuVNose7",
        "outputId": "e82ddaf4-d646-4907-acd1-3fa20c629522"
      },
      "execution_count": 3,
      "outputs": [
        {
          "output_type": "stream",
          "name": "stdout",
          "text": [
            "ts           float64\n",
            "dte_tme       object\n",
            "rsp_id         int64\n",
            "data_type     object\n",
            "val            int64\n",
            "dtype: object\n"
          ]
        }
      ]
    },
    {
      "cell_type": "markdown",
      "source": [
        "###Extracting ibi"
      ],
      "metadata": {
        "id": "S1RUNR6Lo3pd"
      }
    },
    {
      "cell_type": "code",
      "source": [
        "import os\n",
        "import pandas as pd\n",
        "\n",
        "# Set the folder path to the directory with CSV files\n",
        "folder_path = '/content/drive/MyDrive/DATA - Working From the Home Environment /3 Month Data/Garmin Data'\n",
        "\n",
        "# Create an empty list to store DataFrames\n",
        "ibi_dfs = []\n",
        "\n",
        "# Loop through each file in the directory\n",
        "for filename in os.listdir(folder_path):\n",
        "    if filename.endswith('.csv'):\n",
        "        # Load the CSV file into a DataFrame\n",
        "        filepath = os.path.join(folder_path, filename)\n",
        "        # Specify the data types for each column\n",
        "        dtype = {\n",
        "            'rsp_id': 'int64',\n",
        "            'val': 'float32',\n",
        "            'data_type': 'object'\n",
        "        }\n",
        "        # Only load necessary columns\n",
        "        usecols = ['rsp_id', 'val', 'data_type']\n",
        "        # Read the CSV file in chunks to reduce memory usage\n",
        "        for chunk in pd.read_csv(filepath, dtype=dtype, usecols=usecols, chunksize=10000):\n",
        "            # Filter the Dataframe to include only rows with 'ibi' in the datatype column\n",
        "            ibi_mask = chunk['data_type'].str.contains('ibi', case=False)\n",
        "            ibi_df = chunk[ibi_mask]\n",
        "            # Append the filtered DataFrame to the list\n",
        "            ibi_dfs.append(ibi_df)\n",
        "\n",
        "# Concatenate all the filtered DataFrames into a single DataFrame\n",
        "combined_ibi_df = pd.concat(ibi_dfs, ignore_index=True)\n"
      ],
      "metadata": {
        "id": "nJwHCul7owEp"
      },
      "execution_count": null,
      "outputs": []
    }
  ]
}