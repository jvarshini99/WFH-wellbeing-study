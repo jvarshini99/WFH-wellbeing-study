{
  "nbformat": 4,
  "nbformat_minor": 0,
  "metadata": {
    "colab": {
      "provenance": []
    },
    "kernelspec": {
      "name": "python3",
      "display_name": "Python 3"
    },
    "language_info": {
      "name": "python"
    },
    "accelerator": "GPU",
    "gpuClass": "standard"
  },
  "cells": [
    {
      "cell_type": "markdown",
      "source": [
        "##Analysing stress from Garmin Data\n",
        "\n",
        "Jeya Varshini Bharath"
      ],
      "metadata": {
        "id": "F44Z0PwYfuQr"
      }
    },
    {
      "cell_type": "markdown",
      "source": [
        "###Mounting Drive "
      ],
      "metadata": {
        "id": "Quh7FIfTVQd_"
      }
    },
    {
      "cell_type": "code",
      "execution_count": 1,
      "metadata": {
        "colab": {
          "base_uri": "https://localhost:8080/"
        },
        "id": "Mdk8bxrGU8_D",
        "outputId": "f8023dc5-3f09-4720-eec2-7c62985f70dd"
      },
      "outputs": [
        {
          "output_type": "stream",
          "name": "stdout",
          "text": [
            "Drive already mounted at /content/drive; to attempt to forcibly remount, call drive.mount(\"/content/drive\", force_remount=True).\n"
          ]
        }
      ],
      "source": [
        "from google.colab import drive\n",
        "drive.mount('/content/drive')\n"
      ]
    },
    {
      "cell_type": "code",
      "source": [
        "%cd /content/drive/MyDrive/DATA - Working From the Home Environment /3 Month Data/Garmin Data\n"
      ],
      "metadata": {
        "colab": {
          "base_uri": "https://localhost:8080/"
        },
        "id": "DVZGOW4bVKbv",
        "outputId": "db2d519f-41aa-418d-ad8a-7f80e471aaa6"
      },
      "execution_count": 2,
      "outputs": [
        {
          "output_type": "stream",
          "name": "stdout",
          "text": [
            "/content/drive/.shortcut-targets-by-id/1bsGmv7emVk-I65dMlZ1pWzWAqISr6jvI/DATA - Working From the Home Environment /3 Month Data/Garmin Data\n"
          ]
        }
      ]
    },
    {
      "cell_type": "markdown",
      "source": [
        "#### Checking the data type"
      ],
      "metadata": {
        "id": "17z8-MbGZY22"
      }
    },
    {
      "cell_type": "code",
      "source": [
        "import pandas as pd\n",
        "\n",
        "# Path to the CSV file\n",
        "csv_file_path = \"/content/drive/MyDrive/DATA - Working From the Home Environment /3 Month Data/Garmin Data/garmin.11822993 2.csv\"\n",
        "\n",
        "# Read the CSV file into a pandas DataFrame\n",
        "df = pd.read_csv(csv_file_path)\n",
        "\n",
        "# Print the data types for each column\n",
        "print(df.dtypes)\n"
      ],
      "metadata": {
        "colab": {
          "base_uri": "https://localhost:8080/"
        },
        "id": "ogI-wmUdZfwi",
        "outputId": "638310a8-651a-44ac-fd96-bab49da1c472"
      },
      "execution_count": 3,
      "outputs": [
        {
          "output_type": "stream",
          "name": "stdout",
          "text": [
            "ts           float64\n",
            "dte_tme       object\n",
            "rsp_id         int64\n",
            "data_type     object\n",
            "val            int64\n",
            "dtype: object\n"
          ]
        }
      ]
    },
    {
      "cell_type": "markdown",
      "source": [
        "### Extracting stress "
      ],
      "metadata": {
        "id": "gdlodje7cpFA"
      }
    },
    {
      "cell_type": "code",
      "source": [
        "import os\n",
        "import pandas as pd\n",
        "# from google.colab import drive\n",
        "\n",
        "# # Mount Google Drive\n",
        "# drive.mount('/content/drive')\n",
        "\n",
        "# Set the folder path to the directory with CSV files\n",
        "folder_path = '/content/drive/MyDrive/DATA - Working From the Home Environment /3 Month Data/Garmin Data'\n",
        "\n",
        "# Create an empty list to store DataFrames\n",
        "stress_dfs = []\n",
        "#ibi_dfs = []\n",
        "\n",
        "# Loop through each file in the directory\n",
        "for filename in os.listdir(folder_path):\n",
        "    if filename.endswith('.csv'):\n",
        "        # Load the CSV file into a DataFrame\n",
        "        filepath = os.path.join(folder_path, filename)\n",
        "        df = pd.read_csv(filepath)\n",
        "        \n",
        "        # Filter the DataFrame to include only rows with 'stress' in the 'datatype' column\n",
        "        stress_mask = df['data_type'].str.contains('stress', case=False)\n",
        "        stress_df = df[stress_mask]\n",
        "\n",
        "        # Filter the Dataframe to include only rows with 'ibi' in the datatype column\n",
        "        #ibi_mask = df['data_type'].str.contains('ibi', case=False)\n",
        "        #ibi_df = df[ibi_mask]\n",
        "        \n",
        "        # Append the filtered DataFrame to the list\n",
        "        stress_dfs.append(stress_df)\n",
        "        #ibi_dfs.append(ibi_df)\n",
        "\n",
        "# Concatenate all the filtered DataFrames into a single DataFrame\n",
        "combined_stress_df = pd.concat(stress_dfs, ignore_index=True)\n",
        "#combined_ibi_df = pd.concat(ibi_dfs, ignore_index=True)\n"
      ],
      "metadata": {
        "id": "VWLC2vIMW2C_"
      },
      "execution_count": 6,
      "outputs": []
    },
    {
      "cell_type": "code",
      "source": [
        "combined_stress_df.head()"
      ],
      "metadata": {
        "colab": {
          "base_uri": "https://localhost:8080/",
          "height": 206
        },
        "id": "Rgy06I-AdVV5",
        "outputId": "ea8ccf06-e205-4a8e-d6d2-daea2e5250b3"
      },
      "execution_count": 7,
      "outputs": [
        {
          "output_type": "execute_result",
          "data": {
            "text/plain": [
              "             ts              dte_tme   rsp_id data_type  val\n",
              "0  1.651782e+09  2022-05-05 16:13:51  32668.0    stress    8\n",
              "1  1.651782e+09  2022-05-05 16:13:54  32668.0    stress    8\n",
              "2  1.651782e+09  2022-05-05 16:13:56  32668.0    stress    7\n",
              "3  1.651782e+09  2022-05-05 16:13:59  32668.0    stress    7\n",
              "4  1.651782e+09  2022-05-05 16:14:01  32668.0    stress    5"
            ],
            "text/html": [
              "\n",
              "  <div id=\"df-1a427fd6-f713-4e49-a924-4f6f060ca080\">\n",
              "    <div class=\"colab-df-container\">\n",
              "      <div>\n",
              "<style scoped>\n",
              "    .dataframe tbody tr th:only-of-type {\n",
              "        vertical-align: middle;\n",
              "    }\n",
              "\n",
              "    .dataframe tbody tr th {\n",
              "        vertical-align: top;\n",
              "    }\n",
              "\n",
              "    .dataframe thead th {\n",
              "        text-align: right;\n",
              "    }\n",
              "</style>\n",
              "<table border=\"1\" class=\"dataframe\">\n",
              "  <thead>\n",
              "    <tr style=\"text-align: right;\">\n",
              "      <th></th>\n",
              "      <th>ts</th>\n",
              "      <th>dte_tme</th>\n",
              "      <th>rsp_id</th>\n",
              "      <th>data_type</th>\n",
              "      <th>val</th>\n",
              "    </tr>\n",
              "  </thead>\n",
              "  <tbody>\n",
              "    <tr>\n",
              "      <th>0</th>\n",
              "      <td>1.651782e+09</td>\n",
              "      <td>2022-05-05 16:13:51</td>\n",
              "      <td>32668.0</td>\n",
              "      <td>stress</td>\n",
              "      <td>8</td>\n",
              "    </tr>\n",
              "    <tr>\n",
              "      <th>1</th>\n",
              "      <td>1.651782e+09</td>\n",
              "      <td>2022-05-05 16:13:54</td>\n",
              "      <td>32668.0</td>\n",
              "      <td>stress</td>\n",
              "      <td>8</td>\n",
              "    </tr>\n",
              "    <tr>\n",
              "      <th>2</th>\n",
              "      <td>1.651782e+09</td>\n",
              "      <td>2022-05-05 16:13:56</td>\n",
              "      <td>32668.0</td>\n",
              "      <td>stress</td>\n",
              "      <td>7</td>\n",
              "    </tr>\n",
              "    <tr>\n",
              "      <th>3</th>\n",
              "      <td>1.651782e+09</td>\n",
              "      <td>2022-05-05 16:13:59</td>\n",
              "      <td>32668.0</td>\n",
              "      <td>stress</td>\n",
              "      <td>7</td>\n",
              "    </tr>\n",
              "    <tr>\n",
              "      <th>4</th>\n",
              "      <td>1.651782e+09</td>\n",
              "      <td>2022-05-05 16:14:01</td>\n",
              "      <td>32668.0</td>\n",
              "      <td>stress</td>\n",
              "      <td>5</td>\n",
              "    </tr>\n",
              "  </tbody>\n",
              "</table>\n",
              "</div>\n",
              "      <button class=\"colab-df-convert\" onclick=\"convertToInteractive('df-1a427fd6-f713-4e49-a924-4f6f060ca080')\"\n",
              "              title=\"Convert this dataframe to an interactive table.\"\n",
              "              style=\"display:none;\">\n",
              "        \n",
              "  <svg xmlns=\"http://www.w3.org/2000/svg\" height=\"24px\"viewBox=\"0 0 24 24\"\n",
              "       width=\"24px\">\n",
              "    <path d=\"M0 0h24v24H0V0z\" fill=\"none\"/>\n",
              "    <path d=\"M18.56 5.44l.94 2.06.94-2.06 2.06-.94-2.06-.94-.94-2.06-.94 2.06-2.06.94zm-11 1L8.5 8.5l.94-2.06 2.06-.94-2.06-.94L8.5 2.5l-.94 2.06-2.06.94zm10 10l.94 2.06.94-2.06 2.06-.94-2.06-.94-.94-2.06-.94 2.06-2.06.94z\"/><path d=\"M17.41 7.96l-1.37-1.37c-.4-.4-.92-.59-1.43-.59-.52 0-1.04.2-1.43.59L10.3 9.45l-7.72 7.72c-.78.78-.78 2.05 0 2.83L4 21.41c.39.39.9.59 1.41.59.51 0 1.02-.2 1.41-.59l7.78-7.78 2.81-2.81c.8-.78.8-2.07 0-2.86zM5.41 20L4 18.59l7.72-7.72 1.47 1.35L5.41 20z\"/>\n",
              "  </svg>\n",
              "      </button>\n",
              "      \n",
              "  <style>\n",
              "    .colab-df-container {\n",
              "      display:flex;\n",
              "      flex-wrap:wrap;\n",
              "      gap: 12px;\n",
              "    }\n",
              "\n",
              "    .colab-df-convert {\n",
              "      background-color: #E8F0FE;\n",
              "      border: none;\n",
              "      border-radius: 50%;\n",
              "      cursor: pointer;\n",
              "      display: none;\n",
              "      fill: #1967D2;\n",
              "      height: 32px;\n",
              "      padding: 0 0 0 0;\n",
              "      width: 32px;\n",
              "    }\n",
              "\n",
              "    .colab-df-convert:hover {\n",
              "      background-color: #E2EBFA;\n",
              "      box-shadow: 0px 1px 2px rgba(60, 64, 67, 0.3), 0px 1px 3px 1px rgba(60, 64, 67, 0.15);\n",
              "      fill: #174EA6;\n",
              "    }\n",
              "\n",
              "    [theme=dark] .colab-df-convert {\n",
              "      background-color: #3B4455;\n",
              "      fill: #D2E3FC;\n",
              "    }\n",
              "\n",
              "    [theme=dark] .colab-df-convert:hover {\n",
              "      background-color: #434B5C;\n",
              "      box-shadow: 0px 1px 3px 1px rgba(0, 0, 0, 0.15);\n",
              "      filter: drop-shadow(0px 1px 2px rgba(0, 0, 0, 0.3));\n",
              "      fill: #FFFFFF;\n",
              "    }\n",
              "  </style>\n",
              "\n",
              "      <script>\n",
              "        const buttonEl =\n",
              "          document.querySelector('#df-1a427fd6-f713-4e49-a924-4f6f060ca080 button.colab-df-convert');\n",
              "        buttonEl.style.display =\n",
              "          google.colab.kernel.accessAllowed ? 'block' : 'none';\n",
              "\n",
              "        async function convertToInteractive(key) {\n",
              "          const element = document.querySelector('#df-1a427fd6-f713-4e49-a924-4f6f060ca080');\n",
              "          const dataTable =\n",
              "            await google.colab.kernel.invokeFunction('convertToInteractive',\n",
              "                                                     [key], {});\n",
              "          if (!dataTable) return;\n",
              "\n",
              "          const docLinkHtml = 'Like what you see? Visit the ' +\n",
              "            '<a target=\"_blank\" href=https://colab.research.google.com/notebooks/data_table.ipynb>data table notebook</a>'\n",
              "            + ' to learn more about interactive tables.';\n",
              "          element.innerHTML = '';\n",
              "          dataTable['output_type'] = 'display_data';\n",
              "          await google.colab.output.renderOutput(dataTable, element);\n",
              "          const docLink = document.createElement('div');\n",
              "          docLink.innerHTML = docLinkHtml;\n",
              "          element.appendChild(docLink);\n",
              "        }\n",
              "      </script>\n",
              "    </div>\n",
              "  </div>\n",
              "  "
            ]
          },
          "metadata": {},
          "execution_count": 7
        }
      ]
    },
    {
      "cell_type": "code",
      "source": [
        "# Print the number of rows in the combined DataFrame\n",
        "print(\"Number of rows in the combined DataFrame:\", combined_stress_df.shape[0])\n"
      ],
      "metadata": {
        "colab": {
          "base_uri": "https://localhost:8080/"
        },
        "id": "GpzQ5pjWeqan",
        "outputId": "8a7ae00c-be92-4ebc-fcb2-a4ed97b7862c"
      },
      "execution_count": 8,
      "outputs": [
        {
          "output_type": "stream",
          "name": "stdout",
          "text": [
            "Number of rows in the combined DataFrame: 10364278\n"
          ]
        }
      ]
    },
    {
      "cell_type": "markdown",
      "source": [
        "###Time series analysis"
      ],
      "metadata": {
        "id": "aTVA06EKebSs"
      }
    },
    {
      "cell_type": "code",
      "source": [
        "import matplotlib.pyplot as plt\n",
        "\n",
        "# Convert the timestamp column to a datetime object\n",
        "df['dte_tme'] = pd.to_datetime(df['dte_tme'])\n",
        "\n",
        "# Set the timestamp column as the DataFrame index\n",
        "df.set_index('dte_tme', inplace=True)\n",
        "\n",
        "# Filter the DataFrame to include only rows with 'stress' in the 'data_type' column\n",
        "stress_mask = df['data_type'].str.contains('stress', case=False)\n",
        "stress_df = df[stress_mask]\n",
        "\n",
        "# Resample the data to hourly intervals and calculate the mean stress score for each interval\n",
        "hourly_mean_stress = stress_df['val'].resample('H').mean()\n",
        "\n",
        "# Plot the hourly mean stress scores over time\n",
        "plt.plot(hourly_mean_stress.index, hourly_mean_stress)\n",
        "plt.xlabel('Time')\n",
        "plt.ylabel('Mean Stress Level')\n",
        "plt.title('Hourly Mean Stress Levels')\n",
        "plt.show()\n"
      ],
      "metadata": {
        "colab": {
          "base_uri": "https://localhost:8080/",
          "height": 472
        },
        "id": "h2tJGktHfqSw",
        "outputId": "72d65e36-c6ad-4c29-9400-5a0f1418344b"
      },
      "execution_count": 11,
      "outputs": [
        {
          "output_type": "display_data",
          "data": {
            "text/plain": [
              "<Figure size 640x480 with 1 Axes>"
            ],
            "image/png": "[encoded data removed]"
          },
          "metadata": {}
        }
      ]
    },
    {
      "cell_type": "code",
      "source": [],
      "metadata": {
        "id": "IcLRM-NZfeeu"
      },
      "execution_count": null,
      "outputs": []
    }
  ]
}